{
  "nbformat": 4,
  "nbformat_minor": 0,
  "metadata": {
    "colab": {
      "provenance": []
    },
    "kernelspec": {
      "name": "python3",
      "display_name": "Python 3"
    },
    "language_info": {
      "name": "python"
    }
  },
  "cells": [
    {
      "cell_type": "code",
      "execution_count": 6,
      "metadata": {
        "colab": {
          "base_uri": "https://localhost:8080/"
        },
        "id": "sotIS3vPeioS",
        "outputId": "79ba1a9d-bd15-4829-b237-d1e678f05361"
      },
      "outputs": [
        {
          "output_type": "stream",
          "name": "stdout",
          "text": [
            "         *\n",
            "        ***\n",
            "       *****\n",
            "      *******\n",
            "     *********\n",
            "    ***********\n",
            "   *************\n",
            "  ***************\n",
            " *****************\n",
            "        ***\n",
            "        ***\n",
            "        ***\n"
          ]
        }
      ],
      "source": [
        "h = 9\n",
        "for i in range(h):\n",
        "    print((' ' * (h - i)) + ('*' * ((2 * i) + 1)))\n",
        "print((' ' * (h-1) + '***'))\n",
        "print((' ' * (h-1) + '***'))\n",
        "print((' ' * (h-1) + '***'))"
      ]
    },
    {
      "cell_type": "code",
      "source": [
        "import random\n",
        "answer = random.sample(range(1, 10), 4)\n",
        "print(answer)\n",
        "a = b = n = 0\n",
        "\n",
        "while a != 4:\n",
        "    a = b = n = 0\n",
        "\n",
        "    while True:\n",
        "        response = input('輸入四個數字：')\n",
        "        if len(response) > 4:\n",
        "            print('輸入數字過多')\n",
        "        else:\n",
        "            okresponse = list(response)\n",
        "            break\n",
        "\n",
        "    for i in okresponse:\n",
        "        if int(okresponse[n]) == answer[n]:\n",
        "            a += 1\n",
        "        else:\n",
        "            if int(i) in answer:\n",
        "                b += 1\n",
        "        n += 1\n",
        "\n",
        "    output = ','.join(okresponse).replace(',', '')\n",
        "    print(f'{output}: {a}A{b}B')\n",
        "\n",
        "print('答對了！這麼好喔')\n"
      ],
      "metadata": {
        "colab": {
          "base_uri": "https://localhost:8080/"
        },
        "id": "BGLzfANKiVu9",
        "outputId": "2ac93e76-cea9-45dc-e5cc-717bae8d8a15"
      },
      "execution_count": 24,
      "outputs": [
        {
          "output_type": "stream",
          "name": "stdout",
          "text": [
            "[5, 9, 6, 3]\n",
            "輸入四個數字：1234\n",
            "1234: 0A1B\n",
            "輸入四個數字：22222\n",
            "輸入數字過多\n",
            "輸入四個數字：9863\n",
            "9863: 2A1B\n",
            "輸入四個數字：5963\n",
            "5963: 4A0B\n",
            "答對了！這麼好喔\n"
          ]
        }
      ]
    }
  ]
}